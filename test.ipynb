{
 "cells": [
  {
   "cell_type": "code",
   "execution_count": 1,
   "metadata": {},
   "outputs": [],
   "source": [
    "from games import ConnectFour, TicTacToe\n",
    "from models import ResNet\n",
    "from utils import KaggleAgent, test\n",
    "import torch\n",
    "\n",
    "device = torch.device(\"cuda\" if torch.cuda.is_available() else \"cpu\")"
   ]
  },
  {
   "cell_type": "code",
   "execution_count": null,
   "metadata": {},
   "outputs": [],
   "source": [
    "# Test TicTacToe\n",
    "game = TicTacToe()\n",
    "model = ResNet(4, game).to(device)\n",
    "model.load_state_dict(torch.load(f'Models/{game}/model_7.pt', map_location=device))\n",
    "model.eval()\n",
    "player = KaggleAgent(model, game, augment=False, temperature=0)\n",
    "\n",
    "test(\"tictactoe\", [\"reaction\", player.run], num_iterations=1000)"
   ]
  },
  {
   "cell_type": "code",
   "execution_count": 8,
   "metadata": {},
   "outputs": [
    {
     "name": "stdout",
     "output_type": "stream",
     "text": [
      "\n",
      "Player 1 | Wins: 734 | Draws: 32 | Losses: 234\n",
      "Player 2 | Wins: 234 | Draws: 32 | Losses: 734\n",
      "    \n",
      "\n",
      "\n",
      "\n",
      "Player 1 | Wins: 306 | Draws: 41 | Losses: 653\n",
      "Player 2 | Wins: 653 | Draws: 41 | Losses: 306\n",
      "    \n"
     ]
    }
   ],
   "source": [
    "# Test ConnectFour\n",
    "game = ConnectFour()\n",
    "model = ResNet(9, game).to(device)\n",
    "model.load_state_dict(torch.load(f'Models/{game}/model.pt', map_location=device))\n",
    "model.eval()\n",
    "player = KaggleAgent(model, game, augment=True, temperature=1)\n",
    "\n",
    "model1 = ResNet(9, game).to(device)\n",
    "model1.load_state_dict(torch.load(f'Models/{game}/model_8.pt', map_location=device))\n",
    "model1.eval()\n",
    "player1 = KaggleAgent(model1, game, augment=True, temperature=1)\n",
    "\n",
    "test(\"connectx\", [player1.run, player.run], num_iterations=1000)\n",
    "print(\"\\n\")\n",
    "test(\"connectx\", [player.run, player1.run], num_iterations=1000)"
   ]
  }
 ],
 "metadata": {
  "kernelspec": {
   "display_name": "Python 3.8.13 ('myenv')",
   "language": "python",
   "name": "python3"
  },
  "language_info": {
   "codemirror_mode": {
    "name": "ipython",
    "version": 3
   },
   "file_extension": ".py",
   "mimetype": "text/x-python",
   "name": "python",
   "nbconvert_exporter": "python",
   "pygments_lexer": "ipython3",
   "version": "3.8.13"
  },
  "orig_nbformat": 4,
  "vscode": {
   "interpreter": {
    "hash": "2177f1ca12c1330a133c1d40b46100b268ab447cddcbdfdc0c7b2b7e4840e700"
   }
  }
 },
 "nbformat": 4,
 "nbformat_minor": 2
}
