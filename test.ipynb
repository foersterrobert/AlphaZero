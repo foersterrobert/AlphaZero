{
 "cells": [
  {
   "cell_type": "code",
   "execution_count": 1,
   "metadata": {},
   "outputs": [],
   "source": [
    "from games import ConnectFour, TicTacToe\n",
    "from models import ResNet\n",
    "from utils import KaggleAgent, evaluateKaggle\n",
    "import torch\n",
    "\n",
    "device = torch.device(\"cuda\" if torch.cuda.is_available() else \"cpu\")"
   ]
  },
  {
   "cell_type": "code",
   "execution_count": 2,
   "metadata": {},
   "outputs": [
    {
     "name": "stdout",
     "output_type": "stream",
     "text": [
      "\n",
      "Player 1 | Wins: 2 | Draws: 89 | Losses: 9\n",
      "Player 2 | Wins: 9 | Draws: 89 | Losses: 2\n",
      "    \n",
      "\n",
      "\n",
      "\n",
      "Player 1 | Wins: 60 | Draws: 39 | Losses: 1\n",
      "Player 2 | Wins: 1 | Draws: 39 | Losses: 60\n",
      "    \n"
     ]
    }
   ],
   "source": [
    "# Test TicTacToe\n",
    "game = TicTacToe()\n",
    "model = ResNet(4, game).to(device)\n",
    "model.load_state_dict(torch.load(f'Models/{game}/model.pt', map_location=device))\n",
    "model.eval()\n",
    "player = KaggleAgent(model, game, args={\n",
    "    'search': True,\n",
    "    'augment': False,\n",
    "    'temperature': 1,\n",
    "    'num_simulation_games': 100,\n",
    "    'c_puct': 1,\n",
    "    'dirichlet_alpha': 0.3,\n",
    "    'dirichlet_epsilon': 0.0,\n",
    "})\n",
    "\n",
    "evaluateKaggle(\"tictactoe\", [\"reaction\", player.run], num_iterations=100)\n",
    "print(\"\\n\")\n",
    "evaluateKaggle(\"tictactoe\", [player.run, \"reaction\"], num_iterations=100)"
   ]
  },
  {
   "cell_type": "code",
   "execution_count": 3,
   "metadata": {},
   "outputs": [
    {
     "name": "stdout",
     "output_type": "stream",
     "text": [
      "\n",
      "Player 1 | Wins: 15 | Draws: 0 | Losses: 85\n",
      "Player 2 | Wins: 85 | Draws: 0 | Losses: 15\n",
      "    \n",
      "\n",
      "\n",
      "\n",
      "Player 1 | Wins: 89 | Draws: 2 | Losses: 9\n",
      "Player 2 | Wins: 9 | Draws: 2 | Losses: 89\n",
      "    \n"
     ]
    }
   ],
   "source": [
    "# Test ConnectFour\n",
    "game = ConnectFour()\n",
    "model = ResNet(9, game).to(device)\n",
    "model.load_state_dict(torch.load(f'Models/{game}/model.pt', map_location=device))\n",
    "model.eval()\n",
    "player = KaggleAgent(model, game, args={\n",
    "    'search': True,\n",
    "    'augment': False,\n",
    "    'temperature': 1,\n",
    "    'num_simulation_games': 100,\n",
    "    'c_puct': 1,\n",
    "    'dirichlet_alpha': 0.3,\n",
    "    'dirichlet_epsilon': 0.0,\n",
    "})\n",
    "\n",
    "evaluateKaggle(\"connectx\", [\"negamax\", player.run], num_iterations=100)\n",
    "print(\"\\n\")\n",
    "evaluateKaggle(\"connectx\", [player.run, \"negamax\"], num_iterations=100)"
   ]
  }
 ],
 "metadata": {
  "kernelspec": {
   "display_name": "myenv",
   "language": "python",
   "name": "myenv"
  },
  "language_info": {
   "codemirror_mode": {
    "name": "ipython",
    "version": 3
   },
   "file_extension": ".py",
   "mimetype": "text/x-python",
   "name": "python",
   "nbconvert_exporter": "python",
   "pygments_lexer": "ipython3",
   "version": "3.8.13"
  },
  "orig_nbformat": 4,
  "vscode": {
   "interpreter": {
    "hash": "2177f1ca12c1330a133c1d40b46100b268ab447cddcbdfdc0c7b2b7e4840e700"
   }
  }
 },
 "nbformat": 4,
 "nbformat_minor": 2
}
